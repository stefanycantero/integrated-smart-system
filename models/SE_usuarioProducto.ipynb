{
  "cells": [
    {
      "cell_type": "code",
      "execution_count": 2,
      "metadata": {
        "id": "iXHIrnLyFJ19"
      },
      "outputs": [
        {
          "name": "stderr",
          "output_type": "stream",
          "text": [
            "c:\\Users\\Stefany\\Documents\\Académico\\Universidad\\2024-02\\RNA\\Trabajo 3\\integrated-smart-system\\.venv\\Lib\\site-packages\\tqdm\\auto.py:21: TqdmWarning: IProgress not found. Please update jupyter and ipywidgets. See https://ipywidgets.readthedocs.io/en/stable/user_install.html\n",
            "  from .autonotebook import tqdm as notebook_tqdm\n"
          ]
        }
      ],
      "source": [
        "import pandas as pd\n",
        "import numpy as np\n",
        "from sklearn.feature_extraction.text import TfidfVectorizer\n",
        "from sklearn.metrics.pairwise import cosine_similarity\n",
        "from sklearn.model_selection import train_test_split\n",
        "from sklearn.metrics import precision_score, recall_score, accuracy_score, f1_score\n",
        "import kagglehub\n",
        "import os\n",
        "from sklearn.metrics import average_precision_score"
      ]
    },
    {
      "cell_type": "code",
      "execution_count": 3,
      "metadata": {
        "id": "g-ayPTpmK3xL"
      },
      "outputs": [],
      "source": [
        "def load_data(file_path):\n",
        "    df = pd.read_csv(file_path)\n",
        "    df = df.sample(frac=0.01, random_state=42).reset_index(drop=True)\n",
        "    df = df[['name', 'main_category', 'sub_category', 'ratings']].fillna('')\n",
        "    df['text_features'] = df['name'] + ' ' + df['main_category'] + ' ' + df['sub_category']\n",
        "    return df"
      ]
    },
    {
      "cell_type": "code",
      "execution_count": 4,
      "metadata": {
        "id": "gfvRr-n2K6wp"
      },
      "outputs": [],
      "source": [
        "def train_recommender(df):\n",
        "    vectorizer = TfidfVectorizer(stop_words='english')\n",
        "    tfidf_matrix = vectorizer.fit_transform(df['text_features'])\n",
        "    similarity_matrix = cosine_similarity(tfidf_matrix, tfidf_matrix)\n",
        "    return vectorizer, similarity_matrix"
      ]
    },
    {
      "cell_type": "code",
      "execution_count": 5,
      "metadata": {
        "id": "IkCU8s9dK9E3"
      },
      "outputs": [],
      "source": [
        "def recommend(product_name, df, vectorizer, similarity_matrix, top_n=5):\n",
        "    if product_name not in df['name'].values:\n",
        "        return []\n",
        "    idx = df[df['name'] == product_name].index[0]\n",
        "    scores = list(enumerate(similarity_matrix[idx]))\n",
        "    scores = sorted(scores, key=lambda x: x[1], reverse=True)[1:top_n+1]\n",
        "    recommendations = [df.iloc[i[0]]['name'] for i in scores]\n",
        "    return recommendations"
      ]
    },
    {
      "cell_type": "code",
      "execution_count": 6,
      "metadata": {
        "id": "fknqnAnKK_Jx"
      },
      "outputs": [],
      "source": [
        "def evaluate_recommendations(df, vectorizer, similarity_matrix):\n",
        "    y_true_list = []\n",
        "    y_scores_list = []\n",
        "    sample_size = min(100, len(df))\n",
        "    sampled_products = df['name'].sample(sample_size)\n",
        "\n",
        "    for product in sampled_products:\n",
        "        recommendations = recommend(product, df, vectorizer, similarity_matrix, top_n=5)\n",
        "        relevant_items = df[df['main_category'] == df[df['name'] == product]['main_category'].values[0]]['name'].tolist()\n",
        "        y_true = [1 if rec in relevant_items else 0 for rec in recommendations]\n",
        "        y_scores = list(range(len(recommendations), 0, -1))\n",
        "\n",
        "        if sum(y_true) > 0:\n",
        "            y_true_list.append(y_true)\n",
        "            y_scores_list.append(y_scores)\n",
        "\n",
        "    map_score = np.mean([average_precision_score(y_true, y_score) for y_true, y_score in zip(y_true_list, y_scores_list)])\n",
        "    return map_score"
      ]
    },
    {
      "cell_type": "code",
      "execution_count": 7,
      "metadata": {
        "colab": {
          "base_uri": "https://localhost:8080/"
        },
        "id": "N2QqhFFVLDwL",
        "outputId": "ad0a107f-2495-414c-cb00-b5640f747e84"
      },
      "outputs": [
        {
          "name": "stdout",
          "output_type": "stream",
          "text": [
            "Mean Average Precision (MAP): 0.9496527777777777\n",
            "Recomendaciones para MyBlush Women Top: ['ONLY Women Dress', 'Puma Women T-Shirt', 'TAGAS Women Western Top', \"GO COLORS Women's Regular Bottom\", 'Max Women Dress']\n"
          ]
        }
      ],
      "source": [
        "if __name__ == \"__main__\":\n",
        "    path = kagglehub.dataset_download(\"lokeshparab/amazon-products-dataset\")\n",
        "    dataset_path = \"/root/.cache/kagglehub/datasets/lokeshparab/amazon-products-dataset/versions/2\"\n",
        "    file_path = os.path.join(path, 'Amazon-Products.csv')\n",
        "    df = load_data(file_path)\n",
        "\n",
        "    vectorizer, similarity_matrix = train_recommender(df)\n",
        "\n",
        "    # Evaluación del modelo con Mean Average Precision (MAP)\n",
        "    map_score = evaluate_recommendations(df, vectorizer, similarity_matrix)\n",
        "    print(f\"Mean Average Precision (MAP): {map_score}\")\n",
        "\n",
        "    # Ejemplo de recomendación\n",
        "    product_name = df['name'].iloc[0]  # Primer producto del dataset\n",
        "    recommendations = recommend(product_name, df, vectorizer, similarity_matrix)\n",
        "    print(f\"Recomendaciones para {product_name}: {recommendations}\")"
      ]
    },
    {
      "cell_type": "code",
      "execution_count": 8,
      "metadata": {},
      "outputs": [],
      "source": [
        "# Guardar dataset en un csv\n",
        "df.to_csv('amazon_products.csv', index=False)"
      ]
    }
  ],
  "metadata": {
    "colab": {
      "provenance": []
    },
    "kernelspec": {
      "display_name": ".venv",
      "language": "python",
      "name": "python3"
    },
    "language_info": {
      "codemirror_mode": {
        "name": "ipython",
        "version": 3
      },
      "file_extension": ".py",
      "mimetype": "text/x-python",
      "name": "python",
      "nbconvert_exporter": "python",
      "pygments_lexer": "ipython3",
      "version": "3.13.1"
    }
  },
  "nbformat": 4,
  "nbformat_minor": 0
}
